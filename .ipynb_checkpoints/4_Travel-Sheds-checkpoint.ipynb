{
 "cells": [
  {
   "cell_type": "code",
   "execution_count": 1,
   "metadata": {},
   "outputs": [],
   "source": [
    "import numpy as np\n",
    "import os\n",
    "import pandas as pd\n",
    "import arcpy\n",
    "\n",
    "from IPython.display import display, Markdown\n",
    "\n",
    "import time"
   ]
  },
  {
   "cell_type": "code",
   "execution_count": 2,
   "metadata": {},
   "outputs": [
    {
     "name": "stdout",
     "output_type": "stream",
     "text": [
      "Working Directory: E:\\GitHub\\ATO-Web-App-DataPrep\n",
      "Input Directory: E:\\GitHub\\ATO-Web-App-DataPrep\\input\n",
      "Intermediate Directory: E:\\GitHub\\ATO-Web-App-DataPrep\\intermediate\n",
      "Results Directory: E:\\GitHub\\ATO-Web-App-DataPrep\\results\n"
     ]
    }
   ],
   "source": [
    "dirWork                    = os.getcwd()\n",
    "dirInput                   = os.path.join(dirWork ,        r'input'                           )\n",
    "dirATOdata                 = os.path.join(dirInput,        r'TDM_ATO_Output_RTP_v831-20200817')\n",
    "dirTAZ                     = os.path.join(dirInput,        r'TAZ_ATO'                         )\n",
    "dirIntermediate            = os.path.join(dirWork,         r'intermediate'                    )\n",
    "dirResults                 = os.path.join(dirWork,         r'results'                         )\n",
    "dirIntermediateTravelSheds = os.path.join(dirIntermediate, r'travelsheds'                     )\n",
    "\n",
    "print(\"Working Directory: \"      + dirWork          )\n",
    "print(\"Input Directory: \"        + dirInput         )\n",
    "print(\"Intermediate Directory: \" + dirIntermediate  )\n",
    "print(\"Results Directory: \"      + dirResults       )"
   ]
  },
  {
   "cell_type": "code",
   "execution_count": 3,
   "metadata": {},
   "outputs": [
    {
     "name": "stdout",
     "output_type": "stream",
     "text": [
      "Checking if process_travelsheds.gdb exists...\n",
      "process_travelsheds.gdb exists...\n",
      "Checking if TravelSheds.gdb exists...\n",
      "TravelSheds.gdb exists...\n"
     ]
    }
   ],
   "source": [
    "gdb_Process_name         = \"process_travelsheds.gdb\"\n",
    "gdb_Process              = os.path.join(dirIntermediate, \"process_travelsheds.gdb\")\n",
    "gdb_ATO_TravelSheds_name = \"TravelSheds.gdb\"\n",
    "gdb_ATO_TravelSheds      = os.path.join(dirResults, r\"TravelSheds.gdb\")\n",
    "\n",
    "#name of TAZ Centroids\n",
    "filenameTDMNodes             = os.path.join(dirATOdata, 'v831_SE50_Net50_Node.shp')\n",
    "\n",
    "#name of TAZs\n",
    "filenameTAZshp               = os.path.join(dirIntermediate, 'TAZ_ATO_Simple.shp')\n",
    "\n",
    "#utah shapefile\n",
    "filenameUtahshp              = os.path.join(dirIntermediate, 'UtahSimple.shp')\n",
    "\n",
    "#intermediate filenames\n",
    "filenameTravelShedsForOneTAZData      = os.path.join(dirIntermediate, r'travelsheds\\TAZShedsData.csv')\n",
    "filenameTravelShedsForOneTAZJoin      = os.path.join(gdb_Process, 'TAZShedsJoin')\n",
    "filenameTravelShedsForOneTAZDissolve  = os.path.join(gdb_Process, 'TAZShedsDissolve')\n",
    "filenameTravelShedsForOneTAZPolylines = os.path.join(gdb_Process, 'TAZShedsPolylines')\n",
    "filenameTravelShedsForOneTAZMask      = os.path.join(gdb_Process, 'TAZShedsMask')\n",
    "\n",
    "filenameTravelSheds                   = os.path.join(gdb_ATO_TravelSheds, 'TAZSheds')\n",
    "\n",
    "\n",
    "def deleteIfExists(obj):\n",
    "    if arcpy.Exists(obj): arcpy.Delete_management(obj)\n",
    "              \n",
    "\n",
    "#if results geodatabase doesn't exist, create it\n",
    "print(\"Checking if \" + gdb_Process_name + \" exists...\")\n",
    "if not arcpy.Exists(os.path.join(dirIntermediate, gdb_Process_name)):\n",
    "    print(\"Creating \" + gdb_Process_name + \"...\")\n",
    "    arcpy.management.CreateFileGDB(dirIntermediate, gdb_Process_name)\n",
    "else:\n",
    "    print(gdb_Process_name + \" exists...\")\n",
    "\n",
    "#if results geodatabase doesn't exist, create it\n",
    "print(\"Checking if \" + gdb_ATO_TravelSheds_name + \" exists...\")\n",
    "if not arcpy.Exists(os.path.join(dirResults, gdb_ATO_TravelSheds_name)):\n",
    "    print(\"Creating \" + gdb_ATO_TravelSheds_name + \"...\")\n",
    "    arcpy.management.CreateFileGDB(dirResults, gdb_ATO_TravelSheds_name)\n",
    "else:\n",
    "    print(gdb_ATO_TravelSheds_name + \" exists...\")\n",
    "#print(AnalysisAreasInput)"
   ]
  },
  {
   "cell_type": "code",
   "execution_count": 8,
   "metadata": {},
   "outputs": [],
   "source": [
    "\n",
    "listTDMs       = ['v831_SE19_Net19','v831_SE50_Net50']\n",
    "listLayerNames = ['2019','2050']\n",
    "listMode       = ['AUTO','TRAN']\n",
    "\n",
    "#test\n",
    "#listTDMs       = ['v831_SE50_Net50']\n",
    "#listLayerNames = ['2050']\n",
    "#listMode       = ['TRAN']\n"
   ]
  },
  {
   "cell_type": "code",
   "execution_count": 9,
   "metadata": {},
   "outputs": [
    {
     "data": {
      "text/plain": [
       "'E:\\\\GitHub\\\\ATO-Web-App-DataPrep\\\\intermediate\\\\travelsheds\\\\v831_SE19_Net19_TAZOpportunitySheds_Summary.csv'"
      ]
     },
     "metadata": {},
     "output_type": "display_data"
    },
    {
     "data": {
      "text/plain": [
       "'E:\\\\GitHub\\\\ATO-Web-App-DataPrep\\\\intermediate\\\\travelsheds\\\\v831_SE50_Net50_TAZOpportunitySheds_Summary.csv'"
      ]
     },
     "metadata": {},
     "output_type": "display_data"
    },
    {
     "data": {
      "text/html": [
       "<div>\n",
       "<style scoped>\n",
       "    .dataframe tbody tr th:only-of-type {\n",
       "        vertical-align: middle;\n",
       "    }\n",
       "\n",
       "    .dataframe tbody tr th {\n",
       "        vertical-align: top;\n",
       "    }\n",
       "\n",
       "    .dataframe thead th {\n",
       "        text-align: right;\n",
       "    }\n",
       "</style>\n",
       "<table border=\"1\" class=\"dataframe\">\n",
       "  <thead>\n",
       "    <tr style=\"text-align: right;\">\n",
       "      <th></th>\n",
       "      <th>Z</th>\n",
       "      <th>HHs10Min_Auto</th>\n",
       "      <th>HHs20Min_Auto</th>\n",
       "      <th>HHs30Min_Auto</th>\n",
       "      <th>EMP10Min_Auto</th>\n",
       "      <th>EMP20Min_Auto</th>\n",
       "      <th>EMP30Min_Auto</th>\n",
       "      <th>HHs10Min_Tran</th>\n",
       "      <th>HHs20Min_Tran</th>\n",
       "      <th>HHs30Min_Tran</th>\n",
       "      <th>EMP10Min_Tran</th>\n",
       "      <th>EMP20Min_Tran</th>\n",
       "      <th>EMP30Min_Tran</th>\n",
       "      <th>TDM</th>\n",
       "    </tr>\n",
       "  </thead>\n",
       "  <tbody>\n",
       "    <tr>\n",
       "      <th>0</th>\n",
       "      <td>1</td>\n",
       "      <td>101</td>\n",
       "      <td>9653</td>\n",
       "      <td>19426</td>\n",
       "      <td>838</td>\n",
       "      <td>12700</td>\n",
       "      <td>36297</td>\n",
       "      <td>0</td>\n",
       "      <td>0</td>\n",
       "      <td>0</td>\n",
       "      <td>0</td>\n",
       "      <td>0</td>\n",
       "      <td>0</td>\n",
       "      <td>2019</td>\n",
       "    </tr>\n",
       "    <tr>\n",
       "      <th>1</th>\n",
       "      <td>2</td>\n",
       "      <td>121</td>\n",
       "      <td>9859</td>\n",
       "      <td>27476</td>\n",
       "      <td>1163</td>\n",
       "      <td>12384</td>\n",
       "      <td>50656</td>\n",
       "      <td>0</td>\n",
       "      <td>0</td>\n",
       "      <td>0</td>\n",
       "      <td>0</td>\n",
       "      <td>0</td>\n",
       "      <td>0</td>\n",
       "      <td>2019</td>\n",
       "    </tr>\n",
       "    <tr>\n",
       "      <th>2</th>\n",
       "      <td>3</td>\n",
       "      <td>121</td>\n",
       "      <td>9859</td>\n",
       "      <td>29170</td>\n",
       "      <td>1163</td>\n",
       "      <td>12384</td>\n",
       "      <td>52995</td>\n",
       "      <td>0</td>\n",
       "      <td>0</td>\n",
       "      <td>0</td>\n",
       "      <td>0</td>\n",
       "      <td>0</td>\n",
       "      <td>0</td>\n",
       "      <td>2019</td>\n",
       "    </tr>\n",
       "    <tr>\n",
       "      <th>3</th>\n",
       "      <td>4</td>\n",
       "      <td>121</td>\n",
       "      <td>9859</td>\n",
       "      <td>27616</td>\n",
       "      <td>1163</td>\n",
       "      <td>12384</td>\n",
       "      <td>50661</td>\n",
       "      <td>0</td>\n",
       "      <td>0</td>\n",
       "      <td>0</td>\n",
       "      <td>0</td>\n",
       "      <td>0</td>\n",
       "      <td>0</td>\n",
       "      <td>2019</td>\n",
       "    </tr>\n",
       "    <tr>\n",
       "      <th>4</th>\n",
       "      <td>5</td>\n",
       "      <td>2166</td>\n",
       "      <td>10232</td>\n",
       "      <td>45206</td>\n",
       "      <td>5264</td>\n",
       "      <td>9100</td>\n",
       "      <td>88629</td>\n",
       "      <td>0</td>\n",
       "      <td>0</td>\n",
       "      <td>0</td>\n",
       "      <td>0</td>\n",
       "      <td>0</td>\n",
       "      <td>0</td>\n",
       "      <td>2019</td>\n",
       "    </tr>\n",
       "    <tr>\n",
       "      <th>...</th>\n",
       "      <td>...</td>\n",
       "      <td>...</td>\n",
       "      <td>...</td>\n",
       "      <td>...</td>\n",
       "      <td>...</td>\n",
       "      <td>...</td>\n",
       "      <td>...</td>\n",
       "      <td>...</td>\n",
       "      <td>...</td>\n",
       "      <td>...</td>\n",
       "      <td>...</td>\n",
       "      <td>...</td>\n",
       "      <td>...</td>\n",
       "      <td>...</td>\n",
       "    </tr>\n",
       "    <tr>\n",
       "      <th>2876</th>\n",
       "      <td>2877</td>\n",
       "      <td>5225</td>\n",
       "      <td>77400</td>\n",
       "      <td>143246</td>\n",
       "      <td>3253</td>\n",
       "      <td>108769</td>\n",
       "      <td>193649</td>\n",
       "      <td>0</td>\n",
       "      <td>0</td>\n",
       "      <td>0</td>\n",
       "      <td>0</td>\n",
       "      <td>0</td>\n",
       "      <td>0</td>\n",
       "      <td>2050</td>\n",
       "    </tr>\n",
       "    <tr>\n",
       "      <th>2877</th>\n",
       "      <td>2878</td>\n",
       "      <td>0</td>\n",
       "      <td>0</td>\n",
       "      <td>28666</td>\n",
       "      <td>0</td>\n",
       "      <td>0</td>\n",
       "      <td>27641</td>\n",
       "      <td>0</td>\n",
       "      <td>0</td>\n",
       "      <td>0</td>\n",
       "      <td>0</td>\n",
       "      <td>0</td>\n",
       "      <td>0</td>\n",
       "      <td>2050</td>\n",
       "    </tr>\n",
       "    <tr>\n",
       "      <th>2878</th>\n",
       "      <td>2879</td>\n",
       "      <td>20977</td>\n",
       "      <td>80382</td>\n",
       "      <td>99057</td>\n",
       "      <td>16982</td>\n",
       "      <td>89764</td>\n",
       "      <td>169346</td>\n",
       "      <td>0</td>\n",
       "      <td>60</td>\n",
       "      <td>3632</td>\n",
       "      <td>0</td>\n",
       "      <td>1726</td>\n",
       "      <td>2785</td>\n",
       "      <td>2050</td>\n",
       "    </tr>\n",
       "    <tr>\n",
       "      <th>2879</th>\n",
       "      <td>2880</td>\n",
       "      <td>0</td>\n",
       "      <td>801</td>\n",
       "      <td>22365</td>\n",
       "      <td>0</td>\n",
       "      <td>131</td>\n",
       "      <td>16818</td>\n",
       "      <td>0</td>\n",
       "      <td>0</td>\n",
       "      <td>0</td>\n",
       "      <td>0</td>\n",
       "      <td>0</td>\n",
       "      <td>0</td>\n",
       "      <td>2050</td>\n",
       "    </tr>\n",
       "    <tr>\n",
       "      <th>2880</th>\n",
       "      <td>2881</td>\n",
       "      <td>120</td>\n",
       "      <td>32971</td>\n",
       "      <td>64641</td>\n",
       "      <td>113</td>\n",
       "      <td>29947</td>\n",
       "      <td>76128</td>\n",
       "      <td>0</td>\n",
       "      <td>0</td>\n",
       "      <td>0</td>\n",
       "      <td>0</td>\n",
       "      <td>0</td>\n",
       "      <td>0</td>\n",
       "      <td>2050</td>\n",
       "    </tr>\n",
       "  </tbody>\n",
       "</table>\n",
       "<p>5762 rows × 14 columns</p>\n",
       "</div>"
      ],
      "text/plain": [
       "         Z  HHs10Min_Auto  HHs20Min_Auto  HHs30Min_Auto  EMP10Min_Auto  \\\n",
       "0        1            101           9653          19426            838   \n",
       "1        2            121           9859          27476           1163   \n",
       "2        3            121           9859          29170           1163   \n",
       "3        4            121           9859          27616           1163   \n",
       "4        5           2166          10232          45206           5264   \n",
       "...    ...            ...            ...            ...            ...   \n",
       "2876  2877           5225          77400         143246           3253   \n",
       "2877  2878              0              0          28666              0   \n",
       "2878  2879          20977          80382          99057          16982   \n",
       "2879  2880              0            801          22365              0   \n",
       "2880  2881            120          32971          64641            113   \n",
       "\n",
       "      EMP20Min_Auto  EMP30Min_Auto  HHs10Min_Tran  HHs20Min_Tran  \\\n",
       "0             12700          36297              0              0   \n",
       "1             12384          50656              0              0   \n",
       "2             12384          52995              0              0   \n",
       "3             12384          50661              0              0   \n",
       "4              9100          88629              0              0   \n",
       "...             ...            ...            ...            ...   \n",
       "2876         108769         193649              0              0   \n",
       "2877              0          27641              0              0   \n",
       "2878          89764         169346              0             60   \n",
       "2879            131          16818              0              0   \n",
       "2880          29947          76128              0              0   \n",
       "\n",
       "      HHs30Min_Tran  EMP10Min_Tran  EMP20Min_Tran  EMP30Min_Tran   TDM  \n",
       "0                 0              0              0              0  2019  \n",
       "1                 0              0              0              0  2019  \n",
       "2                 0              0              0              0  2019  \n",
       "3                 0              0              0              0  2019  \n",
       "4                 0              0              0              0  2019  \n",
       "...             ...            ...            ...            ...   ...  \n",
       "2876              0              0              0              0  2050  \n",
       "2877              0              0              0              0  2050  \n",
       "2878           3632              0           1726           2785  2050  \n",
       "2879              0              0              0              0  2050  \n",
       "2880              0              0              0              0  2050  \n",
       "\n",
       "[5762 rows x 14 columns]"
      ]
     },
     "metadata": {},
     "output_type": "display_data"
    }
   ],
   "source": [
    "df_TS_Summary = pd.DataFrame()\n",
    "\n",
    "i = -1\n",
    "\n",
    "#loop through tdm results from preprocessed data\n",
    "for tdm in listTDMs:\n",
    "    \n",
    "    i = i + 1 \n",
    "\n",
    "    filenameTravelShed_Summary = os.path.join(dirIntermediateTravelSheds, tdm + '_TAZOpportunitySheds_Summary.csv')\n",
    "    display(filenameTravelShed_Summary)\n",
    "\n",
    "    df_TS_Summary_read = pd.read_csv(filenameTravelShed_Summary, index_col=False)\n",
    "    \n",
    "    df_TS_Summary_read['TDM'] = listLayerNames[i]\n",
    "  \n",
    "    df_TS_Summary = pd.concat([df_TS_Summary,df_TS_Summary_read])\n",
    "\n",
    "display(df_TS_Summary)\n",
    "df_TS_Summary.to_json(os.path.join(dirResults, \"TAZSheds_Summary.json\"),orient='records',double_precision=2)\n"
   ]
  },
  {
   "cell_type": "code",
   "execution_count": 6,
   "metadata": {
    "scrolled": true
   },
   "outputs": [
    {
     "data": {
      "text/plain": [
       "'Last TAZ finished: 2823'"
      ]
     },
     "metadata": {},
     "output_type": "display_data"
    },
    {
     "data": {
      "text/plain": [
       "'E:\\\\GitHub\\\\ATO-Web-App-DataPrep\\\\intermediate\\\\travelsheds\\\\v831_SE50_Net50_TAZOpportunitySheds_TRAN.csv'"
      ]
     },
     "metadata": {},
     "output_type": "display_data"
    },
    {
     "data": {
      "text/plain": [
       "'TAZ 2824 Elapsed Seconds: 68.62099981307983'"
      ]
     },
     "metadata": {},
     "output_type": "display_data"
    },
    {
     "data": {
      "text/plain": [
       "'TAZ 2826 Elapsed Seconds: 8.864000082015991'"
      ]
     },
     "metadata": {},
     "output_type": "display_data"
    },
    {
     "data": {
      "text/plain": [
       "'TAZ 2827 Elapsed Seconds: 10.195000171661377'"
      ]
     },
     "metadata": {},
     "output_type": "display_data"
    },
    {
     "data": {
      "text/plain": [
       "'TAZ 2828 Elapsed Seconds: 7.916999816894531'"
      ]
     },
     "metadata": {},
     "output_type": "display_data"
    },
    {
     "data": {
      "text/plain": [
       "'TAZ 2829 Elapsed Seconds: 7.871999979019165'"
      ]
     },
     "metadata": {},
     "output_type": "display_data"
    },
    {
     "data": {
      "text/plain": [
       "'TAZ 2830 Elapsed Seconds: 8.244999885559082'"
      ]
     },
     "metadata": {},
     "output_type": "display_data"
    },
    {
     "data": {
      "text/plain": [
       "'TAZ 2831 Elapsed Seconds: 7.230999946594238'"
      ]
     },
     "metadata": {},
     "output_type": "display_data"
    },
    {
     "data": {
      "text/plain": [
       "'TAZ 2832 Elapsed Seconds: 7.377000093460083'"
      ]
     },
     "metadata": {},
     "output_type": "display_data"
    },
    {
     "data": {
      "text/plain": [
       "'TAZ 2833 Elapsed Seconds: 7.5929999351501465'"
      ]
     },
     "metadata": {},
     "output_type": "display_data"
    },
    {
     "data": {
      "text/plain": [
       "'TAZ 2834 Elapsed Seconds: 8.177000045776367'"
      ]
     },
     "metadata": {},
     "output_type": "display_data"
    },
    {
     "data": {
      "text/plain": [
       "'TAZ 2835 Elapsed Seconds: 7.690999984741211'"
      ]
     },
     "metadata": {},
     "output_type": "display_data"
    },
    {
     "data": {
      "text/plain": [
       "'TAZ 2836 Elapsed Seconds: 7.767999887466431'"
      ]
     },
     "metadata": {},
     "output_type": "display_data"
    },
    {
     "data": {
      "text/plain": [
       "'TAZ 2837 Elapsed Seconds: 7.2779998779296875'"
      ]
     },
     "metadata": {},
     "output_type": "display_data"
    },
    {
     "data": {
      "text/plain": [
       "'TAZ 2838 Elapsed Seconds: 9.288999795913696'"
      ]
     },
     "metadata": {},
     "output_type": "display_data"
    },
    {
     "data": {
      "text/plain": [
       "'TAZ 2840 Elapsed Seconds: 13.820000171661377'"
      ]
     },
     "metadata": {},
     "output_type": "display_data"
    },
    {
     "data": {
      "text/plain": [
       "'TAZ 2844 Elapsed Seconds: 7.958000183105469'"
      ]
     },
     "metadata": {},
     "output_type": "display_data"
    },
    {
     "data": {
      "text/plain": [
       "'TAZ 2845 Elapsed Seconds: 7.611999988555908'"
      ]
     },
     "metadata": {},
     "output_type": "display_data"
    },
    {
     "data": {
      "text/plain": [
       "'TAZ 2846 Elapsed Seconds: 8.305999994277954'"
      ]
     },
     "metadata": {},
     "output_type": "display_data"
    },
    {
     "data": {
      "text/plain": [
       "'TAZ 2847 Elapsed Seconds: 8.350000143051147'"
      ]
     },
     "metadata": {},
     "output_type": "display_data"
    },
    {
     "data": {
      "text/plain": [
       "'TAZ 2848 Elapsed Seconds: 7.79800009727478'"
      ]
     },
     "metadata": {},
     "output_type": "display_data"
    },
    {
     "data": {
      "text/plain": [
       "'TAZ 2849 Elapsed Seconds: 8.203999996185303'"
      ]
     },
     "metadata": {},
     "output_type": "display_data"
    },
    {
     "data": {
      "text/plain": [
       "'TAZ 2850 Elapsed Seconds: 7.739000082015991'"
      ]
     },
     "metadata": {},
     "output_type": "display_data"
    },
    {
     "data": {
      "text/plain": [
       "'TAZ 2851 Elapsed Seconds: 8.228000164031982'"
      ]
     },
     "metadata": {},
     "output_type": "display_data"
    },
    {
     "data": {
      "text/plain": [
       "'TAZ 2879 Elapsed Seconds: 7.916999816894531'"
      ]
     },
     "metadata": {},
     "output_type": "display_data"
    }
   ],
   "source": [
    "#debugging variables\n",
    "debug = False\n",
    "breakafter = 2\n",
    "\n",
    "\n",
    "#variables\n",
    "overwriteorappend = 'append'\n",
    "#overwriteorappend = 'overwrite'\n",
    "starttaz = 1\n",
    "endtaz = 2881\n",
    "\n",
    "#test data\n",
    "#starttaz = 2080\n",
    "#endtaz = 2100\n",
    "\n",
    "try:\n",
    "    lasttazfinished\n",
    "except NameError:\n",
    "    lasttazfinished = 0\n",
    "\n",
    "#ONLY DEFINE lasttazfinished IF CLOSING AND REOPENING NOTEBOOK, OTHERWISE SHOULD BE PRESERVED IN NOTEBOOK\n",
    "#lasttazfinished = 2823\n",
    "    \n",
    "display(\"Last TAZ finished: \" + str(lasttazfinished))\n",
    "\n",
    "#initialize variables... DON'T CHANGE THESE\n",
    "i = -1\n",
    "starttime = time.time()\n",
    "endtime   = time.time()\n",
    "breaknow = False\n",
    "\n",
    "if (debug): display (\"DEBUG ON -- BREAKING AFTER \" + str(breakafter) + \" ITERATIONS\")\n",
    "\n",
    "#loop through tdm results from preprocessed data\n",
    "for tdm in listTDMs:\n",
    "    \n",
    "    if (breaknow==False):\n",
    "        \n",
    "        i = i + 1\n",
    "\n",
    "        #filenameTravelShed_Summary = os.path.join(dirIntermediateTravelSheds, tdm + '_TAZOpportunitySheds_Summary.csv')\n",
    "        #display(filenameTravelShed_Summary)\n",
    "        \n",
    "        #df_TS_Summary = pd.read_csv(filenameTravelShed_Summary, index_col=False)\n",
    "        \n",
    "        #df_TS_Summary.to_json(os.path.join(dirResults, \"TAZSheds_Summary_\" + listLayerNames[i] + \".json\"),orient='records',double_precision=2)\n",
    "\n",
    "        #loop through modes\n",
    "        for mode in listMode:\n",
    "            \n",
    "            if (breaknow==False):\n",
    "\n",
    "                filenameTravelShed_Mode = os.path.join(dirIntermediateTravelSheds, tdm + '_TAZOpportunitySheds_' + mode + '.csv')\n",
    "                display(filenameTravelShed_Mode)\n",
    "\n",
    "                df_TS = pd.read_csv(filenameTravelShed_Mode, index_col=False)\n",
    "\n",
    "                df_TS_TAZs = df_TS.groupby(['I'], as_index=False).agg({\"J\":[np.size]})\n",
    "\n",
    "                #initialize feature class\n",
    "                filenameTravelSheds_TdmMode = filenameTravelSheds + '_' + listLayerNames[i] + '_' + mode\n",
    "\n",
    "                if (overwriteorappend == 'overwrite'):\n",
    "                    display(\"Deleting \" + filenameTravelSheds_TdmMode + \"...\")\n",
    "                    deleteIfExists(filenameTravelSheds_TdmMode)\n",
    "\n",
    "                j = -1\n",
    "\n",
    "                for index, row in df_TS_TAZs.iterrows():\n",
    "\n",
    "                    tazid = row['I'][0]\n",
    "\n",
    "                    if (tazid>=starttaz and tazid>lasttazfinished and tazid<=endtaz and breaknow==False):\n",
    "\n",
    "                        j = j + 1\n",
    "\n",
    "                        if (debug): display(\"j: \" + str(j))\n",
    "\n",
    "                        if (debug): display(\"TAZ \" + str(tazid))\n",
    "\n",
    "                        starttime = time.time()\n",
    "\n",
    "                        df_TS_OneTAZ = df_TS[df_TS['I']==tazid]\n",
    "                        #display(df_TS_OneTAZ)\n",
    "\n",
    "                        #create table with just sheds for one TAZ\n",
    "                        if (debug): display(\"create csv...\")\n",
    "                        df_TS_OneTAZ.to_csv(filenameTravelShedsForOneTAZData,index=False)\n",
    "\n",
    "                        #join to table created in last step\n",
    "                        if (debug): display(\"join...\")\n",
    "                            \n",
    "                        deleteIfExists(filenameTravelShedsForOneTAZJoin)\n",
    "                        \n",
    "                        joined_table =  arcpy.management.AddJoin(filenameTAZshp, 'TAZID', filenameTravelShedsForOneTAZData, 'J', 'KEEP_COMMON')\n",
    "                        if (debug): display(joined_table)\n",
    "                        arcpy.CopyFeatures_management(joined_table, filenameTravelShedsForOneTAZJoin) \n",
    "\n",
    "                        #dissolve on Shed value\n",
    "                        if (debug): display(\"dissolve...\")\n",
    "                        deleteIfExists(filenameTravelShedsForOneTAZDissolve)\n",
    "                        arcpy.management.Dissolve(filenameTravelShedsForOneTAZJoin, filenameTravelShedsForOneTAZDissolve, [\"TAZShedsData_csv_I\",\"TAZShedsData_csv_SHED\"], \"\", \"SINGLE_PART\")\n",
    "\n",
    "                        arcpy.AddField_management(filenameTravelShedsForOneTAZDissolve, \"I\"   , \"SHORT\")\n",
    "                        arcpy.AddField_management(filenameTravelShedsForOneTAZDissolve, \"SHED\", \"SHORT\")\n",
    "\n",
    "                        #for integer values, not sure how to calculate, so using string that gets changed by to integer due to field type\n",
    "                        arcpy.CalculateField_management(filenameTravelShedsForOneTAZDissolve, \"I\",    '!TAZShedsData_csv_I!'     , \"PYTHON3\")\n",
    "                        arcpy.CalculateField_management(filenameTravelShedsForOneTAZDissolve, \"SHED\", '!TAZShedsData_csv_SHED!'  , \"PYTHON3\")\n",
    "\n",
    "                        arcpy.DeleteField_management(filenameTravelShedsForOneTAZDissolve, [\"TAZShedsData_csv_I\",\"TAZShedsData_csv_SHED\"])\n",
    "\n",
    "                        #create polylines (FUTURE USE?)\n",
    "                        #deleteIfExists(filenameTravelShedsForOneTAZPolylines)\n",
    "                        #arcpy.management.PolygonToLine(filenameTravelShedsForOneTAZDissolve, filenameTravelShedsForOneTAZPolylines, \"IGNORE_NEIGHBORS\")\n",
    "\n",
    "                        deleteIfExists(filenameTravelShedsForOneTAZMask)\n",
    "\n",
    "                        if (debug): display(\"create state mask...\")\n",
    "                        arcpy.analysis.SymDiff(filenameUtahshp, filenameTravelShedsForOneTAZDissolve, filenameTravelShedsForOneTAZMask)\n",
    "\n",
    "                        arcpy.AddField_management(filenameTravelShedsForOneTAZMask, \"I\"   , \"SHORT\")\n",
    "                        arcpy.AddField_management(filenameTravelShedsForOneTAZMask, \"SHED\", \"SHORT\")\n",
    "\n",
    "                        arcpy.CalculateField_management(filenameTravelShedsForOneTAZMask, \"I\", '\"' + str(tazid) + '\"', \"PYTHON3\")\n",
    "\n",
    "                        arcpy.DeleteField_management(filenameTravelShedsForOneTAZMask, [\"FID_UtahSimple\",\"OBJECTID\",\"FID_TAZShedsDissolve\",\"TAZShedsData_csv_I\",\"TAZShedsData_csv_SHED\"])\n",
    "\n",
    "\n",
    "                        #if final layer does not exist copy, else append\n",
    "                        if (debug): display(\"append sheds...\")\n",
    "                        if not arcpy.Exists(filenameTravelSheds_TdmMode):\n",
    "                            arcpy.CopyFeatures_management(filenameTravelShedsForOneTAZDissolve, filenameTravelSheds_TdmMode)\n",
    "                        else:\n",
    "                            arcpy.management.Append(filenameTravelShedsForOneTAZDissolve, filenameTravelSheds_TdmMode)\n",
    "\n",
    "                        if (debug): display(\"append mask to final layer...\")\n",
    "                        arcpy.management.Append(filenameTravelShedsForOneTAZMask, filenameTravelSheds_TdmMode)\n",
    "\n",
    "                        endtime = time.time()\n",
    "\n",
    "                        display(\"TAZ \" + str(tazid) + \" Elapsed Seconds: \" + str((endtime - starttime)))\n",
    "\n",
    "                        #keep track of tazid that has been completed, so the process can pick up after this one if broken\n",
    "                        lasttazfinished = tazid\n",
    "                        \n",
    "                        #reset lasttazfinished after reaching the end taz\n",
    "                        if (lasttazfinished == endtaz):\n",
    "                            lasttazfinished = 0\n",
    "                        \n",
    "                        #conditions to break if debug mode is on\n",
    "                        if (j>=breakafter and debug==True):\n",
    "                            breaknow = True;\n",
    "                            display(\"BREAKING!\")\n",
    "                                                        \n",
    "                #reset lasttazfinished\n",
    "                lasttazfinished = 0\n"
   ]
  },
  {
   "cell_type": "code",
   "execution_count": 7,
   "metadata": {},
   "outputs": [
    {
     "data": {
      "text/plain": [
       "0"
      ]
     },
     "execution_count": 7,
     "metadata": {},
     "output_type": "execute_result"
    }
   ],
   "source": [
    "lasttazfinished"
   ]
  },
  {
   "cell_type": "code",
   "execution_count": null,
   "metadata": {},
   "outputs": [],
   "source": []
  }
 ],
 "metadata": {
  "kernelspec": {
   "display_name": "Python 3",
   "language": "python",
   "name": "python3"
  },
  "language_info": {
   "codemirror_mode": {
    "name": "ipython",
    "version": 3
   },
   "file_extension": ".py",
   "mimetype": "text/x-python",
   "name": "python",
   "nbconvert_exporter": "python",
   "pygments_lexer": "ipython3",
   "version": "3.6.10"
  }
 },
 "nbformat": 4,
 "nbformat_minor": 4
}
