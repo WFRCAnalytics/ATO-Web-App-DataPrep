{
 "cells": [
  {
   "cell_type": "code",
   "execution_count": 2,
   "metadata": {},
   "outputs": [],
   "source": [
    "import numpy as np\n",
    "import os\n",
    "import pandas as pd\n",
    "import arcpy\n",
    "\n",
    "from IPython.display import display, Markdown\n"
   ]
  },
  {
   "cell_type": "code",
   "execution_count": 3,
   "metadata": {},
   "outputs": [
    {
     "name": "stdout",
     "output_type": "stream",
     "text": [
      "Working Directory: E:\\GitHub\\ATO-Web-App-DataPrep\n",
      "Input Directory: E:\\GitHub\\ATO-Web-App-DataPrep\\input\n",
      "Intermediate Directory: E:\\GitHub\\ATO-Web-App-DataPrep\\intermediate\n",
      "Results Directory: E:\\GitHub\\ATO-Web-App-DataPrep\\results\n"
     ]
    }
   ],
   "source": [
    "dirWork                    = os.getcwd()\n",
    "dirInput                   = os.path.join(dirWork ,        r'input'                           )\n",
    "dirATOdata                 = os.path.join(dirInput,        r'TDM_ATO_Output_RTP_v831-20200817')\n",
    "dirTAZ                     = os.path.join(dirInput,        r'TAZ_ATO'                         )\n",
    "dirIntermediate            = os.path.join(dirWork,         r'intermediate'                    )\n",
    "dirResults                 = os.path.join(dirWork,         r'results'                         )\n",
    "dirIntermediateTravelSheds = os.path.join(dirIntermediate, r'travelsheds'                     )\n",
    "\n",
    "print(\"Working Directory: \"      + dirWork          )\n",
    "print(\"Input Directory: \"        + dirInput         )\n",
    "print(\"Intermediate Directory: \" + dirIntermediate  )\n",
    "print(\"Results Directory: \"      + dirResults       )"
   ]
  },
  {
   "cell_type": "code",
   "execution_count": 4,
   "metadata": {},
   "outputs": [],
   "source": [
    "#name of TAZs\n",
    "filenameTAZshp               = os.path.join(dirTAZ         , 'TAZ_ATO.shp')\n",
    "filenameTAZSimpleshp         = os.path.join(dirIntermediate, 'TAZ_ATO_Simple.shp')\n",
    "\n",
    "\n",
    "#utah shapefile\n",
    "filenameUtahshp              = os.path.join(dirInput       , r'Utah\\Utah.shp')\n",
    "filenameUtahSimpleshp        = os.path.join(dirIntermediate, 'UtahSimple.shp')"
   ]
  },
  {
   "cell_type": "code",
   "execution_count": 7,
   "metadata": {},
   "outputs": [
    {
     "data": {
      "text/html": [
       "<h2>Output</h2>E:\\GitHub\\ATO-Web-App-DataPrep\\intermediate\\TAZ_ATO_Simple.shp<h2>Messages</h2>Start Time: Tuesday, June 22, 2021 3:12:45 PM<br/>Succeeded at Tuesday, June 22, 2021 3:12:46 PM (Elapsed Time: 0.15 seconds)<br/><style>.rendered_html td, .rendered_html th {text-align: left;}.rendered_html tbody {border: 1px solid black;}</style>"
      ],
      "text/plain": [
       "<Result 'E:\\\\GitHub\\\\ATO-Web-App-DataPrep\\\\intermediate\\\\TAZ_ATO_Simple.shp'>"
      ]
     },
     "execution_count": 7,
     "metadata": {},
     "output_type": "execute_result"
    }
   ],
   "source": [
    "arcpy.cartography.SimplifyPolygon(filenameTAZshp, filenameTAZSimpleshp, \"EFFECTIVE_AREA\", 100)\n",
    "arcpy.DeleteField_management(filenameTAZSimpleshp, [\"InPoly_FID\",\"SimPgnFlag\",\"MaxSimpTol\",\"MinSimpTol\"])\n"
   ]
  },
  {
   "cell_type": "code",
   "execution_count": 11,
   "metadata": {},
   "outputs": [
    {
     "data": {
      "text/html": [
       "<h2>Output</h2>E:\\GitHub\\ATO-Web-App-DataPrep\\intermediate\\UtahSimple.shp<h2>Messages</h2>Start Time: Tuesday, June 22, 2021 3:14:50 PM<br/>Succeeded at Tuesday, June 22, 2021 3:14:50 PM (Elapsed Time: 0.02 seconds)<br/><style>.rendered_html td, .rendered_html th {text-align: left;}.rendered_html tbody {border: 1px solid black;}</style>"
      ],
      "text/plain": [
       "<Result 'E:\\\\GitHub\\\\ATO-Web-App-DataPrep\\\\intermediate\\\\UtahSimple.shp'>"
      ]
     },
     "execution_count": 11,
     "metadata": {},
     "output_type": "execute_result"
    }
   ],
   "source": [
    "arcpy.cartography.SimplifyPolygon(filenameUtahshp, filenameUtahSimpleshp, \"WEIGHTED_AREA\", 10000)\n",
    "arcpy.DeleteField_management(filenameUtahSimpleshp, [\"InPoly_FID\",\"SimPgnFlag\",\"MaxSimpTol\",\"MinSimpTol\"])\n",
    "\n",
    "#HAD TO MANUALLY OPEN SIMPLIFIED UTAH AND ADD STATE CORNERS"
   ]
  },
  {
   "cell_type": "code",
   "execution_count": null,
   "metadata": {},
   "outputs": [],
   "source": []
  }
 ],
 "metadata": {
  "kernelspec": {
   "display_name": "Python 3",
   "language": "python",
   "name": "python3"
  },
  "language_info": {
   "codemirror_mode": {
    "name": "ipython",
    "version": 3
   },
   "file_extension": ".py",
   "mimetype": "text/x-python",
   "name": "python",
   "nbconvert_exporter": "python",
   "pygments_lexer": "ipython3",
   "version": "3.6.10"
  }
 },
 "nbformat": 4,
 "nbformat_minor": 4
}
